{
  "nbformat": 4,
  "nbformat_minor": 0,
  "metadata": {
    "colab": {
      "provenance": [],
      "authorship_tag": "ABX9TyOVngdTJGffdmhgzToxGPCi",
      "include_colab_link": true
    },
    "kernelspec": {
      "name": "python3",
      "display_name": "Python 3"
    },
    "language_info": {
      "name": "python"
    }
  },
  "cells": [
    {
      "cell_type": "markdown",
      "metadata": {
        "id": "view-in-github",
        "colab_type": "text"
      },
      "source": [
        "<a href=\"https://colab.research.google.com/github/showravj2-create/Even-and-odd-number-recognizer-/blob/main/Even_and_odd_number_prediction.ipynb\" target=\"_parent\"><img src=\"https://colab.research.google.com/assets/colab-badge.svg\" alt=\"Open In Colab\"/></a>"
      ]
    },
    {
      "cell_type": "code",
      "execution_count": null,
      "metadata": {
        "colab": {
          "base_uri": "https://localhost:8080/"
        },
        "id": "aqnnCpZRJndt",
        "outputId": "de243ddd-793c-4f0a-bbb6-868aaba144e8"
      },
      "outputs": [
        {
          "output_type": "stream",
          "name": "stderr",
          "text": [
            "/usr/local/lib/python3.12/dist-packages/keras/src/layers/core/dense.py:93: UserWarning: Do not pass an `input_shape`/`input_dim` argument to a layer. When using Sequential models, prefer using an `Input(shape)` object as the first layer in the model instead.\n",
            "  super().__init__(activity_regularizer=activity_regularizer, **kwargs)\n"
          ]
        },
        {
          "output_type": "stream",
          "name": "stdout",
          "text": [
            "\u001b[1m1/1\u001b[0m \u001b[32m━━━━━━━━━━━━━━━━━━━━\u001b[0m\u001b[37m\u001b[0m \u001b[1m0s\u001b[0m 66ms/step\n",
            "Prediction for 7 (odd): [[0.51691383]]\n",
            "\u001b[1m1/1\u001b[0m \u001b[32m━━━━━━━━━━━━━━━━━━━━\u001b[0m\u001b[37m\u001b[0m \u001b[1m0s\u001b[0m 39ms/step\n",
            "Prediction for 8 (even): [[0.51710474]]\n"
          ]
        }
      ],
      "source": [
        "import numpy as np\n",
        "from tensorflow.keras.models import Sequential\n",
        "from tensorflow.keras.layers import Dense\n",
        "\n",
        "# Training data: numbers 0–100\n",
        "X = np.arange(100)\n",
        "y = X % 2   # 0 for even, 1 for odd\n",
        "\n",
        "# Normalize X (helps NN learn better)\n",
        "X = X / 100.0\n",
        "\n",
        "# Build a very small neural network\n",
        "model = Sequential([\n",
        "    Dense(8, input_dim=1, activation='relu'),\n",
        "    Dense(1, activation='sigmoid')  # Output 0 or 1\n",
        "])\n",
        "\n",
        "# Compile the model\n",
        "model.compile(optimizer='adam', loss='binary_crossentropy', metrics=['accuracy'])\n",
        "\n",
        "# Train the model\n",
        "# Increased epochs to 100 for better training\n",
        "model.fit(X, y, epochs=100, verbose=0)\n",
        "\n",
        "# Test the model\n",
        "# Predictions close to 0.5 indicate low confidence in classification\n",
        "print(\"Prediction for 7 (odd):\", model.predict(np.array([7/100])))\n",
        "print(\"Prediction for 8 (even):\", model.predict(np.array([8/100])))"
      ]
    }
  ]
}